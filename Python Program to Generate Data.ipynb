{
 "cells": [
  {
   "cell_type": "code",
   "execution_count": 1,
   "id": "7b9d3bc0-04c8-4425-ad79-6b4577abb188",
   "metadata": {},
   "outputs": [],
   "source": [
    "from faker import Faker\n",
    "import random\n",
    "import pandas as pd\n",
    "\n",
    "fake = Faker()\n",
    "\n",
    "# Generate synthetic customer data\n",
    "def generate_customer_data(num_customers):\n",
    "    customers = []\n",
    "    for _ in range(num_customers):\n",
    "        customer = {\n",
    "            'Customer_ID': fake.uuid4(),\n",
    "            'Gender': random.choice(['Male', 'Female']),\n",
    "            'Age': random.randint(18, 70),\n",
    "            'Location': fake.city(),\n",
    "        }\n",
    "        customers.append(customer)\n",
    "    return customers\n",
    "\n",
    "# Generate synthetic transaction data\n",
    "def generate_transaction_data(num_transactions, customers):\n",
    "    transactions = []\n",
    "    for _ in range(num_transactions):\n",
    "        customer = random.choice(customers)\n",
    "        transaction = {\n",
    "            'Transaction_ID': fake.uuid4(),\n",
    "            'Customer_ID': customer['Customer_ID'],\n",
    "            'Transaction_Date': fake.date_this_decade(),\n",
    "            'Transaction_Amount': round(random.uniform(10, 500), 2)\n",
    "        }\n",
    "        transactions.append(transaction)\n",
    "    return transactions\n",
    "\n",
    "# Create customers and transactions\n",
    "customers_data = generate_customer_data(100)  # 100 customers\n",
    "transactions_data = generate_transaction_data(500, customers_data)  # 500 transactions\n",
    "\n",
    "# Convert data to DataFrame (for easier manipulation and SQL queries)\n",
    "customers_df = pd.DataFrame(customers_data)\n",
    "transactions_df = pd.DataFrame(transactions_data)\n",
    "\n",
    "# Saving data as CSV (to import into SQL later)\n",
    "customers_df.to_csv(\"customers.csv\", index=False)\n",
    "transactions_df.to_csv(\"transactions.csv\", index=False)\n"
   ]
  },
  {
   "cell_type": "code",
   "execution_count": null,
   "id": "553f2789-6fc1-4c70-8fbd-25111c2ea849",
   "metadata": {},
   "outputs": [],
   "source": []
  }
 ],
 "metadata": {
  "kernelspec": {
   "display_name": "Python 3 (ipykernel)",
   "language": "python",
   "name": "python3"
  },
  "language_info": {
   "codemirror_mode": {
    "name": "ipython",
    "version": 3
   },
   "file_extension": ".py",
   "mimetype": "text/x-python",
   "name": "python",
   "nbconvert_exporter": "python",
   "pygments_lexer": "ipython3",
   "version": "3.12.4"
  }
 },
 "nbformat": 4,
 "nbformat_minor": 5
}
